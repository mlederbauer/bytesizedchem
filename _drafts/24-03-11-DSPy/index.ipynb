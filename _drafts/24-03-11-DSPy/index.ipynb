{
  "cells": [
    {
      "cell_type": "raw",
      "metadata": {},
      "source": [
        "---\n",
        "title: DSPy – A Powerful Framework\n",
        "subtitle: 'Prompting is Yesterday, Programming is Today. An Introductiory Guide (and Why We Use LLMs Like We Do)'\n",
        "date: '2024-03-11'\n",
        "categories:\n",
        "  - LLMs\n",
        "image: image.jpg\n",
        "bibliography: references.bib\n",
        "---"
      ],
      "id": "2679908c"
    },
    {
      "cell_type": "markdown",
      "metadata": {},
      "source": [
        "DSPy redefines abstract language model pipelines as text transformation graphs.\n",
        "\n",
        "{Write a bit about why we even want to do that}\n",
        "\n",
        "So, how do we go about defining such a program? It's an iterative process.\n",
        "\n",
        "DISCLAIMER: This post might be outdated by the time of reading this. I advise you to constantly check!\n",
        "\n",
        ":::{.callout-tip}\n",
        "\n",
        "testetstst[@khattabDSPyCompilingDeclarative2023]\n",
        "\n",
        ":::\n"
      ],
      "id": "2604da66"
    },
    {
      "cell_type": "code",
      "metadata": {},
      "source": [
        "# testetsts"
      ],
      "id": "1a13a7e3",
      "execution_count": null,
      "outputs": []
    },
    {
      "cell_type": "markdown",
      "metadata": {},
      "source": [
        "::: {#refs}\n",
        ":::"
      ],
      "id": "87e5392b"
    }
  ],
  "metadata": {
    "kernelspec": {
      "display_name": "Python 3",
      "language": "python",
      "name": "python3"
    }
  },
  "nbformat": 4,
  "nbformat_minor": 5
}